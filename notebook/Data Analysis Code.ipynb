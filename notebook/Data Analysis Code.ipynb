{
 "cells": [
  {
   "cell_type": "code",
   "execution_count": 2,
   "metadata": {},
   "outputs": [],
   "source": [
    "import matplotlib.pyplot as plt\n",
    "import seaborn as sns\n",
    "import pandas as pd"
   ]
  },
  {
   "cell_type": "markdown",
   "metadata": {},
   "source": [
    "Read data we calculated from csv and seperate the whole dataset into \"acc\" which contains five different accents with six different text types and \"spd\" which contains five different speeds with five different text types"
   ]
  },
  {
   "cell_type": "code",
   "execution_count": 3,
   "metadata": {
    "scrolled": true
   },
   "outputs": [
    {
     "name": "stdout",
     "output_type": "stream",
     "text": [
      "    Unnamed: 0  Text Type    Accent  Speed       wer\n",
      "0            0          1    French    1.0  0.633663\n",
      "1            1          2    French    1.0  0.481481\n",
      "2            2          3    French    1.0  0.666667\n",
      "3            3          4    French    1.0  0.426230\n",
      "4            4          5    French    1.0  0.457944\n",
      "5            5          1  Japanese    1.0  0.742574\n",
      "6            6          2  Japanese    1.0  0.829630\n",
      "7            7          3  Japanese    1.0  0.803922\n",
      "8            8          4  Japanese    1.0  0.672131\n",
      "9            9          5  Japanese    1.0  0.803738\n",
      "10          10          1    Korean    1.0  0.801980\n",
      "11          11          2    Korean    1.0  0.725926\n",
      "12          12          3    Korean    1.0  0.882353\n",
      "13          13          4    Korean    1.0  0.573770\n",
      "14          14          5    Korean    1.0  0.616822\n",
      "15          15          1   Spanish    1.0  0.732673\n",
      "16          16          2   Spanish    1.0  0.414815\n",
      "17          17          3   Spanish    1.0  0.450980\n",
      "18          18          4   Spanish    1.0  0.278689\n",
      "19          19          5   Spanish    1.0  0.429907\n",
      "20          20          1       UKS    1.0  0.267327\n",
      "21          21          2       UKS    1.0  0.148148\n",
      "22          22          3       UKS    1.0  0.254902\n",
      "23          23          4       UKS    1.0  0.147541\n",
      "24          24          5       UKS    1.0  0.074766\n",
      "25          25          1       USS    1.0  0.306931\n",
      "26          26          2       USS    1.0  0.148148\n",
      "27          27          3       USS    1.0  0.254902\n",
      "28          28          4       USS    1.0  0.065574\n",
      "29          29          5       USS    1.0  0.074766\n",
      "30          30          1       USS    0.5  0.346535\n",
      "31          31          2       USS    0.5  0.170370\n",
      "32          32          3       USS    0.5  0.235294\n",
      "33          33          4       USS    0.5  0.065574\n",
      "34          34          5       USS    0.5  0.074766\n",
      "35          35          1       USS    0.8  0.306931\n",
      "36          36          2       USS    0.8  0.177778\n",
      "37          37          3       USS    0.8  0.254902\n",
      "38          38          4       USS    0.8  0.065574\n",
      "39          39          5       USS    0.8  0.084112\n",
      "40          40          1       USS    1.0  0.306931\n",
      "41          41          2       USS    1.0  0.148148\n",
      "42          42          3       USS    1.0  0.254902\n",
      "43          43          4       USS    1.0  0.065574\n",
      "44          44          5       USS    1.0  0.074766\n",
      "45          45          1       USS    1.2  0.306931\n",
      "46          46          2       USS    1.2  0.162963\n",
      "47          47          3       USS    1.2  0.254902\n",
      "48          48          4       USS    1.2  0.065574\n",
      "49          49          5       USS    1.2  0.084112\n",
      "50          50          1       USS    1.5  0.297030\n",
      "51          51          2       USS    1.5  0.155556\n",
      "52          52          3       USS    1.5  0.254902\n",
      "53          53          4       USS    1.5  0.065574\n",
      "54          54          5       USS    1.5  0.084112\n"
     ]
    }
   ],
   "source": [
    "df = pd.read_csv ('all_wer.csv')\n",
    "print (df)\n",
    "acc = df[0:30]\n",
    "spd = df[30:]"
   ]
  },
  {
   "cell_type": "markdown",
   "metadata": {},
   "source": [
    "create two boxplots to visualize the word error rate (wer) for different accent and speed"
   ]
  },
  {
   "cell_type": "code",
   "execution_count": 4,
   "metadata": {
    "scrolled": true
   },
   "outputs": [
    {
     "data": {
      "image/png": "[encoded data removed]",
      "text/plain": [
       "<Figure size 432x288 with 1 Axes>"
      ]
     },
     "metadata": {
      "needs_background": "light"
     },
     "output_type": "display_data"
    },
    {
     "data": {
      "image/png": "[encoded data removed]",
      "text/plain": [
       "<Figure size 432x288 with 1 Axes>"
      ]
     },
     "metadata": {
      "needs_background": "light"
     },
     "output_type": "display_data"
    }
   ],
   "source": [
    "ax = sns.boxplot(x='Accent', y='wer', data=acc, color='#99c2a2')\n",
    "plt.show()\n",
    "ax = sns.boxplot(x='Speed', y='wer', data=spd, color='#99c2a2')\n",
    "plt.show()"
   ]
  },
  {
   "cell_type": "markdown",
   "metadata": {},
   "source": [
    "We choose to conduct t-test for the Japanese and USS which are the accent with highest wer and lowest average wer respectively. The aim of t-test is to justify whether the difference of wer of Japanese and USS are significant"
   ]
  },
  {
   "cell_type": "code",
   "execution_count": 14,
   "metadata": {},
   "outputs": [
    {
     "data": {
      "text/plain": [
       "Ttest_indResult(statistic=10.731867150782465, pvalue=4.997618110068202e-06)"
      ]
     },
     "execution_count": 14,
     "metadata": {},
     "output_type": "execute_result"
    }
   ],
   "source": [
    "from scipy.stats import ttest_ind\n",
    "\n",
    "JPN = acc[acc['Accent']=='Japanese']\n",
    "USS = acc[acc['Accent']=='USS']\n",
    "\n",
    "ttest_ind(JPN['wer'], USS['wer'])"
   ]
  },
  {
   "cell_type": "markdown",
   "metadata": {},
   "source": [
    "We next conduct t-test for the speed 0.8 and 1.0 which are the speed with highest wer and lowest average wer respectively. The aim of t-test is to justify whether the difference of wer of 0.8 and 1.0 are significant"
   ]
  },
  {
   "cell_type": "code",
   "execution_count": 8,
   "metadata": {},
   "outputs": [
    {
     "data": {
      "text/plain": [
       "Ttest_indResult(statistic=0.11594380607969237, pvalue=0.9105546824313931)"
      ]
     },
     "execution_count": 8,
     "metadata": {},
     "output_type": "execute_result"
    }
   ],
   "source": [
    "lowspd = spd[spd['Speed']==0.8]\n",
    "highspd = spd[spd['Speed']==1.0]\n",
    "\n",
    "ttest_ind(lowspd['wer'], highspd['wer'])"
   ]
  },
  {
   "cell_type": "markdown",
   "metadata": {},
   "source": [
    "Then, we conduct the Ordinary Least Squares model for wer ~ C(Speed)+C(Accent) where word error rate is the dependent variable, speed and accent are two categorical independent variables. Moreover, we create ANOVA table."
   ]
  },
  {
   "cell_type": "code",
   "execution_count": 9,
   "metadata": {},
   "outputs": [],
   "source": [
    "import statsmodels.api as sm\n",
    "from statsmodels.formula.api import ols"
   ]
  },
  {
   "cell_type": "code",
   "execution_count": 10,
   "metadata": {},
   "outputs": [
    {
     "data": {
      "text/html": [
       "<div>\n",
       "<style scoped>\n",
       "    .dataframe tbody tr th:only-of-type {\n",
       "        vertical-align: middle;\n",
       "    }\n",
       "\n",
       "    .dataframe tbody tr th {\n",
       "        vertical-align: top;\n",
       "    }\n",
       "\n",
       "    .dataframe thead th {\n",
       "        text-align: right;\n",
       "    }\n",
       "</style>\n",
       "<table border=\"1\" class=\"dataframe\">\n",
       "  <thead>\n",
       "    <tr style=\"text-align: right;\">\n",
       "      <th></th>\n",
       "      <th>sum_sq</th>\n",
       "      <th>df</th>\n",
       "      <th>F</th>\n",
       "      <th>PR(&gt;F)</th>\n",
       "    </tr>\n",
       "  </thead>\n",
       "  <tbody>\n",
       "    <tr>\n",
       "      <th>C(Speed)</th>\n",
       "      <td>0.000367</td>\n",
       "      <td>4.0</td>\n",
       "      <td>0.007592</td>\n",
       "      <td>9.998809e-01</td>\n",
       "    </tr>\n",
       "    <tr>\n",
       "      <th>C(Accent)</th>\n",
       "      <td>2.050341</td>\n",
       "      <td>5.0</td>\n",
       "      <td>33.954670</td>\n",
       "      <td>3.324150e-14</td>\n",
       "    </tr>\n",
       "    <tr>\n",
       "      <th>Residual</th>\n",
       "      <td>0.543462</td>\n",
       "      <td>45.0</td>\n",
       "      <td>NaN</td>\n",
       "      <td>NaN</td>\n",
       "    </tr>\n",
       "  </tbody>\n",
       "</table>\n",
       "</div>"
      ],
      "text/plain": [
       "             sum_sq    df          F        PR(>F)\n",
       "C(Speed)   0.000367   4.0   0.007592  9.998809e-01\n",
       "C(Accent)  2.050341   5.0  33.954670  3.324150e-14\n",
       "Residual   0.543462  45.0        NaN           NaN"
      ]
     },
     "execution_count": 10,
     "metadata": {},
     "output_type": "execute_result"
    }
   ],
   "source": [
    "# Ordinary Least Squares (OLS) model\n",
    "model = ols('wer ~ C(Speed)+C(Accent)', data=df).fit()\n",
    "anova_table = sm.stats.anova_lm(model, typ=2)\n",
    "anova_table"
   ]
  },
  {
   "cell_type": "code",
   "execution_count": 11,
   "metadata": {},
   "outputs": [
    {
     "data": {
      "text/html": [
       "<table class=\"simpletable\">\n",
       "<caption>OLS Regression Results</caption>\n",
       "<tr>\n",
       "  <th>Dep. Variable:</th>           <td>wer</td>       <th>  R-squared:         </th> <td>   0.841</td>\n",
       "</tr>\n",
       "<tr>\n",
       "  <th>Model:</th>                   <td>OLS</td>       <th>  Adj. R-squared:    </th> <td>   0.809</td>\n",
       "</tr>\n",
       "<tr>\n",
       "  <th>Method:</th>             <td>Least Squares</td>  <th>  F-statistic:       </th> <td>   26.39</td>\n",
       "</tr>\n",
       "<tr>\n",
       "  <th>Date:</th>             <td>Fri, 23 Apr 2021</td> <th>  Prob (F-statistic):</th> <td>4.07e-15</td>\n",
       "</tr>\n",
       "<tr>\n",
       "  <th>Time:</th>                 <td>02:11:30</td>     <th>  Log-Likelihood:    </th> <td>  48.929</td>\n",
       "</tr>\n",
       "<tr>\n",
       "  <th>No. Observations:</th>      <td>    55</td>      <th>  AIC:               </th> <td>  -77.86</td>\n",
       "</tr>\n",
       "<tr>\n",
       "  <th>Df Residuals:</th>          <td>    45</td>      <th>  BIC:               </th> <td>  -57.79</td>\n",
       "</tr>\n",
       "<tr>\n",
       "  <th>Df Model:</th>              <td>     9</td>      <th>                     </th>     <td> </td>   \n",
       "</tr>\n",
       "<tr>\n",
       "  <th>Covariance Type:</th>      <td>nonrobust</td>    <th>                     </th>     <td> </td>   \n",
       "</tr>\n",
       "</table>\n",
       "<table class=\"simpletable\">\n",
       "<tr>\n",
       "            <td></td>               <th>coef</th>     <th>std err</th>      <th>t</th>      <th>P>|t|</th>  <th>[0.025</th>    <th>0.975]</th>  \n",
       "</tr>\n",
       "<tr>\n",
       "  <th>Intercept</th>             <td>    0.5416</td> <td>    0.078</td> <td>    6.970</td> <td> 0.000</td> <td>    0.385</td> <td>    0.698</td>\n",
       "</tr>\n",
       "<tr>\n",
       "  <th>C(Speed)[T.0.8]</th>       <td>   -0.0006</td> <td>    0.070</td> <td>   -0.009</td> <td> 0.993</td> <td>   -0.141</td> <td>    0.139</td>\n",
       "</tr>\n",
       "<tr>\n",
       "  <th>C(Speed)[T.1.0]</th>       <td>   -0.0084</td> <td>    0.060</td> <td>   -0.140</td> <td> 0.889</td> <td>   -0.130</td> <td>    0.113</td>\n",
       "</tr>\n",
       "<tr>\n",
       "  <th>C(Speed)[T.1.2]</th>       <td>   -0.0036</td> <td>    0.070</td> <td>   -0.052</td> <td> 0.959</td> <td>   -0.144</td> <td>    0.136</td>\n",
       "</tr>\n",
       "<tr>\n",
       "  <th>C(Speed)[T.1.5]</th>       <td>   -0.0071</td> <td>    0.070</td> <td>   -0.102</td> <td> 0.919</td> <td>   -0.147</td> <td>    0.133</td>\n",
       "</tr>\n",
       "<tr>\n",
       "  <th>C(Accent)[T.Japanese]</th> <td>    0.2372</td> <td>    0.070</td> <td>    3.413</td> <td> 0.001</td> <td>    0.097</td> <td>    0.377</td>\n",
       "</tr>\n",
       "<tr>\n",
       "  <th>C(Accent)[T.Korean]</th>   <td>    0.1870</td> <td>    0.070</td> <td>    2.690</td> <td> 0.010</td> <td>    0.047</td> <td>    0.327</td>\n",
       "</tr>\n",
       "<tr>\n",
       "  <th>C(Accent)[T.Spanish]</th>  <td>   -0.0718</td> <td>    0.070</td> <td>   -1.033</td> <td> 0.307</td> <td>   -0.212</td> <td>    0.068</td>\n",
       "</tr>\n",
       "<tr>\n",
       "  <th>C(Accent)[T.UKS]</th>      <td>   -0.3547</td> <td>    0.070</td> <td>   -5.103</td> <td> 0.000</td> <td>   -0.495</td> <td>   -0.215</td>\n",
       "</tr>\n",
       "<tr>\n",
       "  <th>C(Accent)[T.USS]</th>      <td>   -0.3631</td> <td>    0.060</td> <td>   -6.033</td> <td> 0.000</td> <td>   -0.484</td> <td>   -0.242</td>\n",
       "</tr>\n",
       "</table>\n",
       "<table class=\"simpletable\">\n",
       "<tr>\n",
       "  <th>Omnibus:</th>       <td> 2.872</td> <th>  Durbin-Watson:     </th> <td>   2.532</td>\n",
       "</tr>\n",
       "<tr>\n",
       "  <th>Prob(Omnibus):</th> <td> 0.238</td> <th>  Jarque-Bera (JB):  </th> <td>   2.437</td>\n",
       "</tr>\n",
       "<tr>\n",
       "  <th>Skew:</th>          <td> 0.402</td> <th>  Prob(JB):          </th> <td>   0.296</td>\n",
       "</tr>\n",
       "<tr>\n",
       "  <th>Kurtosis:</th>      <td> 2.353</td> <th>  Cond. No.          </th> <td>    12.4</td>\n",
       "</tr>\n",
       "</table><br/><br/>Notes:<br/>[1] Standard Errors assume that the covariance matrix of the errors is correctly specified."
      ],
      "text/plain": [
       "<class 'statsmodels.iolib.summary.Summary'>\n",
       "\"\"\"\n",
       "                            OLS Regression Results                            \n",
       "==============================================================================\n",
       "Dep. Variable:                    wer   R-squared:                       0.841\n",
       "Model:                            OLS   Adj. R-squared:                  0.809\n",
       "Method:                 Least Squares   F-statistic:                     26.39\n",
       "Date:                Fri, 23 Apr 2021   Prob (F-statistic):           4.07e-15\n",
       "Time:                        02:11:30   Log-Likelihood:                 48.929\n",
       "No. Observations:                  55   AIC:                            -77.86\n",
       "Df Residuals:                      45   BIC:                            -57.79\n",
       "Df Model:                           9                                         \n",
       "Covariance Type:            nonrobust                                         \n",
       "=========================================================================================\n",
       "                            coef    std err          t      P>|t|      [0.025      0.975]\n",
       "-----------------------------------------------------------------------------------------\n",
       "Intercept                 0.5416      0.078      6.970      0.000       0.385       0.698\n",
       "C(Speed)[T.0.8]          -0.0006      0.070     -0.009      0.993      -0.141       0.139\n",
       "C(Speed)[T.1.0]          -0.0084      0.060     -0.140      0.889      -0.130       0.113\n",
       "C(Speed)[T.1.2]          -0.0036      0.070     -0.052      0.959      -0.144       0.136\n",
       "C(Speed)[T.1.5]          -0.0071      0.070     -0.102      0.919      -0.147       0.133\n",
       "C(Accent)[T.Japanese]     0.2372      0.070      3.413      0.001       0.097       0.377\n",
       "C(Accent)[T.Korean]       0.1870      0.070      2.690      0.010       0.047       0.327\n",
       "C(Accent)[T.Spanish]     -0.0718      0.070     -1.033      0.307      -0.212       0.068\n",
       "C(Accent)[T.UKS]         -0.3547      0.070     -5.103      0.000      -0.495      -0.215\n",
       "C(Accent)[T.USS]         -0.3631      0.060     -6.033      0.000      -0.484      -0.242\n",
       "==============================================================================\n",
       "Omnibus:                        2.872   Durbin-Watson:                   2.532\n",
       "Prob(Omnibus):                  0.238   Jarque-Bera (JB):                2.437\n",
       "Skew:                           0.402   Prob(JB):                        0.296\n",
       "Kurtosis:                       2.353   Cond. No.                         12.4\n",
       "==============================================================================\n",
       "\n",
       "Notes:\n",
       "[1] Standard Errors assume that the covariance matrix of the errors is correctly specified.\n",
       "\"\"\""
      ]
     },
     "execution_count": 11,
     "metadata": {},
     "output_type": "execute_result"
    }
   ],
   "source": [
    "model.summary()"
   ]
  },
  {
   "cell_type": "markdown",
   "metadata": {},
   "source": [
    "By fixing accent type which is only United State type, we run the regression for dependent word error rate and numerical independent variable speed. We hope to find how speed can influence the word error rate as speed increases."
   ]
  },
  {
   "cell_type": "code",
   "execution_count": 12,
   "metadata": {},
   "outputs": [
    {
     "data": {
      "text/html": [
       "<div>\n",
       "<style scoped>\n",
       "    .dataframe tbody tr th:only-of-type {\n",
       "        vertical-align: middle;\n",
       "    }\n",
       "\n",
       "    .dataframe tbody tr th {\n",
       "        vertical-align: top;\n",
       "    }\n",
       "\n",
       "    .dataframe thead th {\n",
       "        text-align: right;\n",
       "    }\n",
       "</style>\n",
       "<table border=\"1\" class=\"dataframe\">\n",
       "  <thead>\n",
       "    <tr style=\"text-align: right;\">\n",
       "      <th></th>\n",
       "      <th>sum_sq</th>\n",
       "      <th>df</th>\n",
       "      <th>F</th>\n",
       "      <th>PR(&gt;F)</th>\n",
       "    </tr>\n",
       "  </thead>\n",
       "  <tbody>\n",
       "    <tr>\n",
       "      <th>Speed</th>\n",
       "      <td>0.000147</td>\n",
       "      <td>1.0</td>\n",
       "      <td>0.014599</td>\n",
       "      <td>0.904879</td>\n",
       "    </tr>\n",
       "    <tr>\n",
       "      <th>Residual</th>\n",
       "      <td>0.231572</td>\n",
       "      <td>23.0</td>\n",
       "      <td>NaN</td>\n",
       "      <td>NaN</td>\n",
       "    </tr>\n",
       "  </tbody>\n",
       "</table>\n",
       "</div>"
      ],
      "text/plain": [
       "            sum_sq    df         F    PR(>F)\n",
       "Speed     0.000147   1.0  0.014599  0.904879\n",
       "Residual  0.231572  23.0       NaN       NaN"
      ]
     },
     "execution_count": 12,
     "metadata": {},
     "output_type": "execute_result"
    }
   ],
   "source": [
    "model2 = ols('wer ~ Speed', data=spd).fit()\n",
    "anova_table2 = sm.stats.anova_lm(model2, typ=2)\n",
    "anova_table2"
   ]
  },
  {
   "cell_type": "code",
   "execution_count": 13,
   "metadata": {},
   "outputs": [
    {
     "data": {
      "text/html": [
       "<table class=\"simpletable\">\n",
       "<caption>OLS Regression Results</caption>\n",
       "<tr>\n",
       "  <th>Dep. Variable:</th>           <td>wer</td>       <th>  R-squared:         </th> <td>   0.001</td>\n",
       "</tr>\n",
       "<tr>\n",
       "  <th>Model:</th>                   <td>OLS</td>       <th>  Adj. R-squared:    </th> <td>  -0.043</td>\n",
       "</tr>\n",
       "<tr>\n",
       "  <th>Method:</th>             <td>Least Squares</td>  <th>  F-statistic:       </th> <td> 0.01460</td>\n",
       "</tr>\n",
       "<tr>\n",
       "  <th>Date:</th>             <td>Fri, 23 Apr 2021</td> <th>  Prob (F-statistic):</th>  <td> 0.905</td> \n",
       "</tr>\n",
       "<tr>\n",
       "  <th>Time:</th>                 <td>02:11:34</td>     <th>  Log-Likelihood:    </th> <td>  23.048</td>\n",
       "</tr>\n",
       "<tr>\n",
       "  <th>No. Observations:</th>      <td>    25</td>      <th>  AIC:               </th> <td>  -42.10</td>\n",
       "</tr>\n",
       "<tr>\n",
       "  <th>Df Residuals:</th>          <td>    23</td>      <th>  BIC:               </th> <td>  -39.66</td>\n",
       "</tr>\n",
       "<tr>\n",
       "  <th>Df Model:</th>              <td>     1</td>      <th>                     </th>     <td> </td>   \n",
       "</tr>\n",
       "<tr>\n",
       "  <th>Covariance Type:</th>      <td>nonrobust</td>    <th>                     </th>     <td> </td>   \n",
       "</tr>\n",
       "</table>\n",
       "<table class=\"simpletable\">\n",
       "<tr>\n",
       "      <td></td>         <th>coef</th>     <th>std err</th>      <th>t</th>      <th>P>|t|</th>  <th>[0.025</th>    <th>0.975]</th>  \n",
       "</tr>\n",
       "<tr>\n",
       "  <th>Intercept</th> <td>    0.1817</td> <td>    0.062</td> <td>    2.919</td> <td> 0.008</td> <td>    0.053</td> <td>    0.310</td>\n",
       "</tr>\n",
       "<tr>\n",
       "  <th>Speed</th>     <td>   -0.0071</td> <td>    0.059</td> <td>   -0.121</td> <td> 0.905</td> <td>   -0.129</td> <td>    0.115</td>\n",
       "</tr>\n",
       "</table>\n",
       "<table class=\"simpletable\">\n",
       "<tr>\n",
       "  <th>Omnibus:</th>       <td>11.023</td> <th>  Durbin-Watson:     </th> <td>   2.301</td>\n",
       "</tr>\n",
       "<tr>\n",
       "  <th>Prob(Omnibus):</th> <td> 0.004</td> <th>  Jarque-Bera (JB):  </th> <td>   2.498</td>\n",
       "</tr>\n",
       "<tr>\n",
       "  <th>Skew:</th>          <td> 0.239</td> <th>  Prob(JB):          </th> <td>   0.287</td>\n",
       "</tr>\n",
       "<tr>\n",
       "  <th>Kurtosis:</th>      <td> 1.527</td> <th>  Cond. No.          </th> <td>    6.05</td>\n",
       "</tr>\n",
       "</table><br/><br/>Notes:<br/>[1] Standard Errors assume that the covariance matrix of the errors is correctly specified."
      ],
      "text/plain": [
       "<class 'statsmodels.iolib.summary.Summary'>\n",
       "\"\"\"\n",
       "                            OLS Regression Results                            \n",
       "==============================================================================\n",
       "Dep. Variable:                    wer   R-squared:                       0.001\n",
       "Model:                            OLS   Adj. R-squared:                 -0.043\n",
       "Method:                 Least Squares   F-statistic:                   0.01460\n",
       "Date:                Fri, 23 Apr 2021   Prob (F-statistic):              0.905\n",
       "Time:                        02:11:34   Log-Likelihood:                 23.048\n",
       "No. Observations:                  25   AIC:                            -42.10\n",
       "Df Residuals:                      23   BIC:                            -39.66\n",
       "Df Model:                           1                                         \n",
       "Covariance Type:            nonrobust                                         \n",
       "==============================================================================\n",
       "                 coef    std err          t      P>|t|      [0.025      0.975]\n",
       "------------------------------------------------------------------------------\n",
       "Intercept      0.1817      0.062      2.919      0.008       0.053       0.310\n",
       "Speed         -0.0071      0.059     -0.121      0.905      -0.129       0.115\n",
       "==============================================================================\n",
       "Omnibus:                       11.023   Durbin-Watson:                   2.301\n",
       "Prob(Omnibus):                  0.004   Jarque-Bera (JB):                2.498\n",
       "Skew:                           0.239   Prob(JB):                        0.287\n",
       "Kurtosis:                       1.527   Cond. No.                         6.05\n",
       "==============================================================================\n",
       "\n",
       "Notes:\n",
       "[1] Standard Errors assume that the covariance matrix of the errors is correctly specified.\n",
       "\"\"\""
      ]
     },
     "execution_count": 13,
     "metadata": {},
     "output_type": "execute_result"
    }
   ],
   "source": [
    "model2.summary()"
   ]
  }
 ],
 "metadata": {
  "kernelspec": {
   "display_name": "Python 3",
   "language": "python",
   "name": "python3"
  }
 },
 "nbformat": 4,
 "nbformat_minor": 4
}
