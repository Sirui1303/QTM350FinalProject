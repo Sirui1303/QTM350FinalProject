{
 "cells": [
  {
   "cell_type": "code",
   "execution_count": 60,
   "metadata": {},
   "outputs": [],
   "source": [
    "from __future__ import print_function\n",
    "import time\n",
    "import boto3\n",
    "transcribe = boto3.client('transcribe',region_name=\"us-east-1\")\n",
    "import pandas as pd\n",
    "import json\n",
    "import urllib.request"
   ]
  },
  {
   "cell_type": "code",
   "execution_count": null,
   "metadata": {},
   "outputs": [],
   "source": [
    "# save for delete transcribe job if necessary \n",
    "#!aws transcribe delete-transcription-job \\--transcription-job-name USSpeed1Text5"
   ]
  },
  {
   "cell_type": "markdown",
   "metadata": {},
   "source": [
    "We assign 30 audio files with six different accent versions and five different text versions into job name and job uri lists."
   ]
  },
  {
   "cell_type": "code",
   "execution_count": 5,
   "metadata": {},
   "outputs": [],
   "source": [
    "import s3fs\n",
    "job_name={}\n",
    "job_uri={}\n",
    "job_name[0] = \"FrenchSpeed1Text1\"\n",
    "job_uri[0] = \"s3://qtm350-accent/French/French_speed=1.0_text1.mp3\"\n",
    "job_name[1] = \"FrenchSpeed1Text2\"\n",
    "job_uri[1] = \"s3://qtm350-accent/French/French_speed=1.0_text2.mp3\"\n",
    "job_name[2] = \"FrenchSpeed1Text3\"\n",
    "job_uri[2] = \"s3://qtm350-accent/French/French_speed=1.0_text3.mp3\"\n",
    "job_name[3] = \"FrenchSpeed1Text4\"\n",
    "job_uri[3] = \"s3://qtm350-accent/French/French_speed=1.0_text4.mp3\"\n",
    "job_name[4] = \"FrenchSpeed1Text5\"\n",
    "job_uri[4] = \"s3://qtm350-accent/French/French_speed=1.0_text5.mp3\"\n",
    "\n",
    "job_name[5] = \"JapaneseSpeed1Text1\"\n",
    "job_uri[5] = \"s3://qtm350-accent/Japanese/Japanese_speed=1.0_text1.mp3\"\n",
    "job_name[6] = \"JapaneseSpeed1Text2\"\n",
    "job_uri[6] = \"s3://qtm350-accent/Japanese/Japanese_speed=1.0_text2.mp3\"\n",
    "job_name[7] = \"JapaneseSpeed1Text3\"\n",
    "job_uri[7] = \"s3://qtm350-accent/Japanese/Japanese_speed=1.0_text3.mp3\"\n",
    "job_name[8] = \"JapaneseSpeed1Text4\"\n",
    "job_uri[8] = \"s3://qtm350-accent/Japanese/Japanese_speed=1.0_text4.mp3\"\n",
    "job_name[9] = \"JapaneseSpeed1Text5\"\n",
    "job_uri[9] = \"s3://qtm350-accent/Japanese/Japanese_speed=1.0_text5.mp3\"\n",
    "\n",
    "job_name[10] = \"KoreanSpeed1Text1\"\n",
    "job_uri[10] = \"s3://qtm350-accent/Korean/Korean_speed=1.0_text1.mp3\"\n",
    "job_name[11] = \"KoreanSpeed1Text2\"\n",
    "job_uri[11] = \"s3://qtm350-accent/Korean/Korean_speed=1.0_text2.mp3\"\n",
    "job_name[12] = \"KoreanSpeed1Text3\"\n",
    "job_uri[12] = \"s3://qtm350-accent/Korean/Korean_speed=1.0_text3.mp3\"\n",
    "job_name[13] = \"KoreanSpeed1Text4\"\n",
    "job_uri[13] = \"s3://qtm350-accent/Korean/Korean_speed=1.0_text4.mp3\"\n",
    "job_name[14] = \"KoreanSpeed1Text5\"\n",
    "job_uri[14] = \"s3://qtm350-accent/Korean/Korean_speed=1.0_text5.mp3\"\n",
    "\n",
    "job_name[15] = \"SpanishSpeed1Text1\"\n",
    "job_uri[15] = \"s3://qtm350-accent/Spanish/Spanish_speed=1.0_text1.mp3\"\n",
    "job_name[16] = \"SpanishSpeed1Text2\"\n",
    "job_uri[16] = \"s3://qtm350-accent/Spanish/Spanish_speed=1.0_text2.mp3\"\n",
    "job_name[17] = \"SpanishSpeed1Text3\"\n",
    "job_uri[17] = \"s3://qtm350-accent/Spanish/Spanish_speed=1.0_text3.mp3\"\n",
    "job_name[18] = \"SpanishSpeed1Text4\"\n",
    "job_uri[18] = \"s3://qtm350-accent/Spanish/Spanish_speed=1.0_text4.mp3\"\n",
    "job_name[19] = \"SpanishSpeed1Text5\"\n",
    "job_uri[19] = \"s3://qtm350-accent/Spanish/Spanish_speed=1.0_text5.mp3\"\n",
    "\n",
    "job_name[20] = \"UKSpeed1Text1\"\n",
    "job_uri[20] = \"s3://qtm350-accent/UK/UK_speed=1.0_text1.mp3\"\n",
    "job_name[21] = \"UKSpeed1Text2\"\n",
    "job_uri[21] = \"s3://qtm350-accent/UK/UK_speed=1.0_text2.mp3\"\n",
    "job_name[22] = \"UKSpeed1Text3\"\n",
    "job_uri[22] = \"s3://qtm350-accent/UK/UK_speed=1.0_text3.mp3\"\n",
    "job_name[23] = \"UKSpeed1Text4\"\n",
    "job_uri[23] = \"s3://qtm350-accent/UK/UK_speed=1.0_text4.mp3\"\n",
    "job_name[24] = \"UKSpeed1Text5\"\n",
    "job_uri[24] = \"s3://qtm350-accent/UK/UK_speed=1.0_text5.mp3\"\n",
    "\n",
    "job_name[25] = \"USSpeed1Text1\"\n",
    "job_uri[25] = \"s3://qtm350-accent/US/US_speed=1.0_text1.mp3\"\n",
    "job_name[26] = \"USSpeed1Text2\"\n",
    "job_uri[26] = \"s3://qtm350-accent/US/US_speed=1.0_text2.mp3\"\n",
    "job_name[27] = \"USSpeed1Text3\"\n",
    "job_uri[27] = \"s3://qtm350-accent/US/US_speed=1.0_text3.mp3\"\n",
    "job_name[28] = \"USSpeed1Text4\"\n",
    "job_uri[28] = \"s3://qtm350-accent/US/US_speed=1.0_text4.mp3\"\n",
    "job_name[29] = \"USSpeed1Text5\"\n",
    "job_uri[29] = \"s3://qtm350-accent/US/US_speed=1.0_text5.mp3\""
   ]
  },
  {
   "cell_type": "markdown",
   "metadata": {},
   "source": [
    "By importing audio file from s3 bucket, we use a loop to run the transcribe. We extract data from model and save it into the text lists"
   ]
  },
  {
   "cell_type": "code",
   "execution_count": 41,
   "metadata": {},
   "outputs": [],
   "source": [
    "text={}\n",
    "for i in range(0,30):\n",
    " transcribe.start_transcription_job(\n",
    "    TranscriptionJobName=job_name[i],\n",
    "    Media={'MediaFileUri': job_uri[i]},\n",
    "    MediaFormat='mp3',\n",
    "    LanguageCode='en-US')\n",
    " while True:\n",
    "    status = transcribe.get_transcription_job(TranscriptionJobName=job_name[i])\n",
    "    if status['TranscriptionJob']['TranscriptionJobStatus'] in ['COMPLETED', 'FAILED']:\n",
    "        break\n",
    " if status['TranscriptionJob']['TranscriptionJobStatus'] == 'COMPLETED':\n",
    "       response = urllib.request.urlopen(status['TranscriptionJob']['Transcript']['TranscriptFileUri'])\n",
    " data = json.loads(response.read())\n",
    " text[i] = data['results']['transcripts'][0]['transcript']\n",
    " transcribe.delete_transcription_job(TranscriptionJobName=job_name[i])"
   ]
  },
  {
   "cell_type": "markdown",
   "metadata": {},
   "source": [
    "text list contains all converted version of text after running the model."
   ]
  },
  {
   "cell_type": "code",
   "execution_count": 42,
   "metadata": {
    "jupyter": {
     "outputs_hidden": true
    }
   },
   "outputs": [
    {
     "data": {
      "text/plain": [
       "{0: \"overview of the USS measures accounted. Egyptians Q. S s measure is the integration of Libya and detailed questions with the U. S s measures to don't learn that questions technique and conservatives here he will their studies the natural shins, social shins or humanities. You will take competitive class such as statistics, games, you're it and the experimental methods and casino associated discipline beside on your area of interest such a political chins, psychology, neuroscience and behavioral biology, history and more finally, a majority versa. Your interest. If you want to know what discipline or you want to pursue, you can start with.\",\n",
       " 1: 'Emory University, located near downtown Atlanta, is divided into nine schools and college for which servant undergraduate and graduate students memories. Graduate programs include Israeli ranked Goizueta Business School School, Affluent School of Medicine 1st and 2nd year student required to live on computers with a majority of students remain on computer for years. The Student Programming concealer organization tend performance well, including from well known entertainers and musicians. A popular student organization is volunteer Emery, which over the community service activities the memory games have nearly even see our division Traverse City to Mandarin, well known for their successful swimming and diving team. Regardless, officers, they participate in varsity athletics. All students are required to take two courses in physical education, a memorial, so she is a thriving Greek community.',\n",
       " 2: \"gets. We believe that in the green light the orgiastic features at your residence before us. It'll adidas season with that. No matter to me, we will run faster, stretch out to Hiram s father and when she in mourning boats against the current, borne back ceaselessly into the past.\",\n",
       " 3: 'Amazon transcribe use. Advanced the machine learning technology to recognize speech in your audio or video and transcript that speech into text. You can use them as a transcript to converted you to the extent to create the pre questions that the controller for Do you feel. For example, you can transcribe the audio track from a video recording to create closed captioning for the video.',\n",
       " 4: \"the administration and the top Democrat in Congress began retailing plan for significant to I was a united state and those countries tax multinational corporations as I look for ways to raise revenue and finance PRESIDENT BIDEN INFRASTRUCTURE PROPOSAL Among the Treasury Secretary Janet L. Yellen's were super beyond national effort to create a global minimum tax that would apply to multinational corporation regardless of where they locate their headquarters. Such a global attacks Shia side they could help prevent has to be able to in which couldn't risk their tax rate in order. Twenties companies to move eight quarters and profits across borders.\",\n",
       " 5: 'overview of curious, curious integration data Science is a curious students to science crunched the only Hawaiian studies and socialist or humanities. You need to take a crunch, such as a statistic and the experimental message and the associated to invest the only area of interest such as political science, psychology, neuroscience and behavioral biology. He studied and Tamara finally, you are you sure you want, you can start.',\n",
       " 6: \"the money University, located near downtown Atlanta, divided on the Internet is good, is under collective for under graduate and undergraduate students. The money is hiding and school and the school of medicine faster. And the second year students Annika campus it. But the majority of the students remain campus. Only four years. The Student Council, the organism event and performances, including Latinas and Communication. And The Doctor, a popular student organization, Anti Emery. She's a community service. Activities as a family even have any any individual team and known for their successes with the screen. England, the diving team, a pack, all the students and circles in physical education, a money on its own has s leaving the Greek community.\",\n",
       " 7: 'we believe the all the stick future before us us under one fine morning, both against the Sacramento because she easily, easily into the Fastow.',\n",
       " 8: 'the transcriber use advanced machine learning technologies to the organizes teaching. You are audio video and data transcriber teaching to to kiss to you can say Amazon transcribe to combat audio. To create a medication to incorporate the content of the audio, for example, you can transcribe the audio video according to create a video.',\n",
       " 9: \"administration and the Democrats in Congress began detaining the changes to the United States and the origination of cooperation revenues and the finance president each other support behind the international minimum origination cooperation. She says she can't companies to move ahead.\",\n",
       " 10: \"estimate how quantitative data integration. Because science, we did a criticism to students on data science techniques and the contract datable Cherie why they studied all the social sciences. You you take a quantitative calculations such a yes statistics, game theory and the experimental. So they did and the collections in an associated the district. In case you're interested, yes, the political science, psychology, neuroscience and the behavior of biology history and more finally able to use it. How you see your interests before you are in teacher or discipline you wanted to pursue, you can start with data.\",\n",
       " 11: \"Emory University, located in your downtown Atlanta, is divided into nine Screwed in the Colleges. Simple, which is a bundle graduating the Graduating Students, Maria's radiated program that included a high leading to its global in this global edition. First in the second year, students tell the coyote to rival can proceed for the majority who students remain on campus. Impropriety. The student to Programming Council organized event in the moment, including plumber, known entertainers and musicians, a popular student organization needed lnto Emery we to communities, Obviously activity. How Emory Go to heaven. Nearly 80 80 be done some bad things in there alone for their success for swimming and diving. Team Legal participated in varsity athletics. Will students are required to take two questions in political education. Memory also has a thriving Greek community.\",\n",
       " 12: 'I live in dark green light to stick to the Ohio, they said. They said Before tomorrow we will learn his talks and doing fine morning so he between puts it against the current Texas Dallas lean to capacity.',\n",
       " 13: 'Amazon transcribe. You use deodorant. The demotion learning technology to recognize is fitting your audio or video, and the transcript is pitting two tech sector. You can use them as intrinsically able to convert audio to text in there to create a publication that incorporated or content of audio piety. For example, you can transcribe audio from a video according to create a closed captioning for the video.',\n",
       " 14: 'stop hiding administration and the Democrats in Congress begin detailing plenty of significant changes to hold our United States in the country detects the multinational corporation yesterday to radiative energy in the pine and separated into hiding. SC the Lottery Leone infrastructure When one day Treasury Secretary Janet Yellen support behind the an internationally to create a global minimum takes a day to do apply to multinational corporation where they located their headquarters. Such a global takes it, she said. They could help prevent a the institute in the country, the cardio flexibility in order to and companies to move a headquarters and develop itself.',\n",
       " 15: \"of er three of the key s as majority quantitative sciences. Key s as majority the integration of liberal arts and science with the key S s my job students and data science techniques and quantitative studied natural sciences, social sciences or humanities. You will take quantitative classes, took a statistics game diary in experimental methods and classes in an associated discipline based on your area of interest such as political science, psychology, neuroscience and behavioral biology, history and more. Finally, a majority refers as your interest. If you are unsure about this chip in you want to pursue, you can start with the Iraqi s s track and to see your discipline later. The core quantitative colors work no matter what, but you haven't to Olympic.\",\n",
       " 16: 'and more University, located near downtown Atlanta, is defeated into nine schools and colleges. Far off week serve undergraduate and graduate students. Memories. Graduate programs include other Highclere and got Goizueta Business School, School of Law and School of Medicine. 1st and 2nd year students are required to life on campus, with a majority of students remain on campus or four years. The student programming conjugal organizes events and performances throughout the year, including from well known entertainers and musicians. A popular student organization is following the memory. We offer his community service activities. The M Ori girls have married to Apollo and deficiency the varsity teams and are well known for their successful swimming. And I think them regardless of letter to participate in varsity athletics. All students are required to technical courses in physical education. Emery also has a thriving Greek community.',\n",
       " 17: \"Gatsby believed in the green light organs Take photos are by. Yeah, I said this before us. It alludes, Houston, but that's no matter. Tomorrow we will run faster, stretch out our arms farther and one fine morning. So we beat on boats against the current, borne back ceaselessly into the past.\",\n",
       " 18: 'Amazon transcribe, WHO says that funds missing learning technologies to recognize speech in your audio or video and transcribed that speech. In the attacks, you can use a Amazon transcribe to convert audio to text and to create applications that incorporate the content of audio files. For example, you can transcribe the audio track from a video recording to create closed captioning for the video.',\n",
       " 19: \"the Biden administration and top Democrats in Congress began detailing plans for significant chunk as to how the United States and of America won't respects multinational corporations as to look forward is to rise revenues and finance president obedience to a dollar trillion infrastructure proposal on Monday. Treasury Secretary Genital Yale and threw her support behind an international effort to create a global minimum tax that will apply to multinational corporations regardless of where they locate air headquarter. Super global Tax sense. I'd call Health present to the bottom in which countries to tell your tax status in order to end these companies to move headquarter and profits across borders.\",\n",
       " 20: \"overview of the Q. S s major. The Quantitative Sciences Q. S s major is the integration of liberal arts and data science with the Q. S s. Major students learn data science techniques and quantitative theory while they study the natural sciences, social sciences or humanities. You will take quantitative classes such as statistics, game theory and experimental methods and classes in an associated discipline based on your area of interest, such as political science, psychology, neuroscience and behavioral biology, history and more. Finally, a major as diverse as your interests. If you aren't sure what discipline you want to pursue, you can start with them.\",\n",
       " 21: \"Emory University, located near downtown Atlanta, is divided into nine schools and colleges, four of which serve undergraduate and graduate students. Emery's graduate programs include the highly ranked Goizueta Business School, School of Law and School of Medicine. 1st and 2nd year students are required to live on campus, but a majority of students remain on campus all four years. The Student Programming Council organizes events and performances throughout the year, including from well known entertainers and musicians. A popular student organization is volunteer Emery, which oversees community service activities. The Emory Eagles have nearly 20 NC double A division three varsity teams and a well known for their successful swimming and diving team. Regardless of whether they participate in varsity athletics, all students are required to take two courses in physical education. Emery also has a thriving Greek community.\",\n",
       " 22: \"Gatsby believed in the green light. The orgiastic future that year by year recedes before us. It eluded us then, but that's no matter. Tomorrow we will run faster, stretch out our arms farther and one fine morning. So we beat on boats against the current, borne back ceaselessly into the past.\",\n",
       " 23: 'Amazon transcribe users advanced machine learning technologies to recognize speech in your audio video and transcribed that speech into text. You can use Amazon transcribe to convert audio to text them to create applications that incorporate the content of audio files. For example, you can transcribe the audio track from a video recording to create closed captioning for the video.',\n",
       " 24: \"the Biden administration and top Democrats in Congress began detailing plans for significant changes to how the United States and other countries tax multinational corporations as they look for ways to raise revenues and finance President Biden's $2 trillion infrastructure proposal. On Monday, Treasury Secretary Janet L. Yellen threw her support behind an international effort to create a global minimum tax that would apply to multinational corporations regardless of where they locate their headquarters. Such a global tax, she said, could help prevent the race to the bottom, in which countries cut their tax rates in order to entice companies to move headquarters and profits across borders.\",\n",
       " 25: \"overview of the Q. S s major. The Quantitative Sciences Q. S s major is the integration of liberal arts and data science with the Q. S s. Major students learn data science techniques in quantitative theory while they study the natural sciences, social sciences or humanities. You will take quantitative classes such as statistics, game theory and experimental methods and classes in an associated discipline based on your area of interest. Such a political science, psychology, neuroscience and behavioral biology, history and more. Finally, a major as die versus your interests. If you aren't sure what discipline you want to pursue, you can start with the\",\n",
       " 26: \"Emory University, located near downtown Atlanta, is divided into nine schools and colleges, four of which serve undergraduate and graduate students. Emery's graduate programs include the highly ranked Goizueta Business School, School of Law and School of Medicine. 1st and 2nd year students are required to live on campus, but a majority of students remain on campus all four years. The Student Programming Council organizes events and performances throughout the year, including from well known entertainers and musicians. A popular student organization is volunteer Emery, which oversees community service activities. The Emory Eagles have nearly 20 N. C double A division three varsity teams and are well known for their successful swimming and diving team. Regardless of whether they participate in varsity athletics, all students are required to take two courses in physical education. Emery also has a thriving Greek community.\",\n",
       " 27: \"Gatsby believed in the green light. The orgiastic future that year by year recedes before us. It eluded us then, but that's no matter. Tomorrow we will run faster, stretch out our arms farther and one fine morning. So we beat on boats against the current, borne back ceaselessly into the past.\",\n",
       " 28: 'Amazon Transcribe uses advanced machine learning technologies to recognize speech in your audio or video and transcribe that speech into text. You can use Amazon transcribe to convert audio to text and to create applications that incorporate the content of audio files. For example, you can transcribe the audio track from a video recording to create closed captioning for the video.',\n",
       " 29: \"the Biden administration and top Democrats in Congress began detailing plans for significant changes to how the United States and other countries tax multinational corporations as they look for ways to raise revenues in finance President Biden's $2 trillion infrastructure proposal. On Monday, Treasury Secretary Janet L. Yellen threw her support behind an international effort to create a global minimum tax that would apply to multinational corporations regardless of where they locate their headquarters. Such a global tax, she said, could help prevent a race to the bottom in which countries cut their tax rates in order to entice companies to move headquarters and profits across borders.\"}"
      ]
     },
     "execution_count": 42,
     "metadata": {},
     "output_type": "execute_result"
    }
   ],
   "source": [
    "text"
   ]
  },
  {
   "cell_type": "markdown",
   "metadata": {},
   "source": [
    "Then, we assign 25 audio files with five different speed versions and five different text versions into name and uri lists."
   ]
  },
  {
   "cell_type": "code",
   "execution_count": 47,
   "metadata": {},
   "outputs": [],
   "source": [
    "name={}\n",
    "uri={}\n",
    "name[0] = \"Speed0.5Text1\"\n",
    "uri[0] = \"s3://qtm350-speed/speed=0.5/US_speed=0.5_text1 .mp3\"\n",
    "name[1] = \"Speed0.5Text2\"\n",
    "uri[1] = \"s3://qtm350-speed/speed=0.5/US_speed=0.5_text2.mp3\"\n",
    "name[2] = \"Speed0.5Text3\"\n",
    "uri[2] = \"s3://qtm350-speed/speed=0.5/US_speed=0.5_text3.mp3\"\n",
    "name[3] = \"Speed0.5Text4\"\n",
    "uri[3] = \"s3://qtm350-speed/speed=0.5/US_speed=0.5_text4.mp3\"\n",
    "name[4] = \"Speed0.5Text5\"\n",
    "uri[4] = \"s3://qtm350-speed/speed=0.5/US_speed=0.5_text5.mp3\"\n",
    "\n",
    "name[5] = \"Speed0.8Text1\"\n",
    "uri[5] = \"s3://qtm350-speed/speed=0.8/US_speed=0.8_text1.mp3\"\n",
    "name[6] = \"Speed0.8Text2\"\n",
    "uri[6] = \"s3://qtm350-speed/speed=0.8/US_speed=0.8_text2.mp3\"\n",
    "name[7] = \"Speed0.8Text3\"\n",
    "uri[7] = \"s3://qtm350-speed/speed=0.8/US_speed=0.8_text3.mp3\"\n",
    "name[8] = \"Speed0.8Text4\"\n",
    "uri[8] = \"s3://qtm350-speed/speed=0.8/US_speed=0.8_text4.mp3\"\n",
    "name[9] = \"Speed0.8Text5\"\n",
    "uri[9] = \"s3://qtm350-speed/speed=0.8/US_speed=0.8_text5.mp3\"\n",
    "\n",
    "name[10] = \"Speed1.0Text1\"\n",
    "uri[10] = \"s3://qtm350-speed/speed=1.0/US_speed=1.0_text1.mp3\"\n",
    "name[11] = \"Speed1.0Text2\"\n",
    "uri[11] = \"s3://qtm350-speed/speed=1.0/US_speed=1.0_text2.mp3\"\n",
    "name[12] = \"Speed1.0Text3\"\n",
    "uri[12] = \"s3://qtm350-speed/speed=1.0/US_speed=1.0_text3.mp3\"\n",
    "name[13] = \"Speed1.0Text4\"\n",
    "uri[13] = \"s3://qtm350-speed/speed=1.0/US_speed=1.0_text4.mp3\"\n",
    "name[14] = \"Speed1.0Text5\"\n",
    "uri[14] = \"s3://qtm350-speed/speed=1.0/US_speed=1.0_text5.mp3\"\n",
    "\n",
    "name[15] = \"Speed1.2Text1\"\n",
    "uri[15] = \"s3://qtm350-speed/speed=1.2/US_speed=1.2_text1.mp3\"\n",
    "name[16] = \"Speed1.2Text2\"\n",
    "uri[16] = \"s3://qtm350-speed/speed=1.2/US_speed=1.2_text2.mp3\"\n",
    "name[17] = \"Speed1.2Text3\"\n",
    "uri[17] = \"s3://qtm350-speed/speed=1.2/US_speed=1.2_text3.mp3\"\n",
    "name[18] = \"Speed1.2Text4\"\n",
    "uri[18] = \"s3://qtm350-speed/speed=1.2/US_speed=1.2_text4.mp3\"\n",
    "name[19] = \"Speed1.2Text5\"\n",
    "uri[19] = \"s3://qtm350-speed/speed=1.2/US_speed=1.2_text5.mp3\"\n",
    "\n",
    "name[20] = \"Speed1.5Text1\"\n",
    "uri[20] = \"s3://qtm350-speed/speed=1.5/US_speed=1.5_text1.mp3\"\n",
    "name[21] = \"Speed1.5Text2\"\n",
    "uri[21] = \"s3://qtm350-speed/speed=1.5/US_speed=1.5_text2.mp3\"\n",
    "name[22] = \"Speed1.5Text3\"\n",
    "uri[22] = \"s3://qtm350-speed/speed=1.5/US_speed=1.5_text3.mp3\"\n",
    "name[23] = \"Speed1.5Text4\"\n",
    "uri[23] = \"s3://qtm350-speed/speed=1.5/US_speed=1.5_text4.mp3\"\n",
    "name[24] = \"Speed1.5Text5\"\n",
    "uri[24] = \"s3://qtm350-speed/speed=1.5/US_speed=1.5_text5.mp3\""
   ]
  },
  {
   "cell_type": "code",
   "execution_count": 70,
   "metadata": {},
   "outputs": [
    {
     "name": "stdout",
     "output_type": "stream",
     "text": [
      "\n",
      "An error occurred (BadRequestException) when calling the DeleteTranscriptionJob operation: The requested job couldn't be found. Check the job name and try your request again.\n"
     ]
    }
   ],
   "source": [
    " #!aws transcribe delete-transcription-job \\--transcription-job-name Speed1.5Text5"
   ]
  },
  {
   "cell_type": "markdown",
   "metadata": {},
   "source": [
    "By importing audio file from s3 bucket, we use a loop to run the transcribe. We extract data from model and save it into the nextext lists"
   ]
  },
  {
   "cell_type": "code",
   "execution_count": 73,
   "metadata": {},
   "outputs": [],
   "source": [
    "newtext={}\n",
    "for i in range(0,1):\n",
    " transcribe.start_transcription_job(\n",
    "    TranscriptionJobName=name[i],\n",
    "    Media={'MediaFileUri': uri[i]},\n",
    "    MediaFormat='mp3',\n",
    "    LanguageCode='en-US')\n",
    " while True:\n",
    "    status = transcribe.get_transcription_job(TranscriptionJobName=name[i])\n",
    "    if status['TranscriptionJob']['TranscriptionJobStatus'] in ['COMPLETED', 'FAILED']:\n",
    "        break\n",
    " if status['TranscriptionJob']['TranscriptionJobStatus'] == 'COMPLETED':\n",
    "       response = urllib.request.urlopen(status['TranscriptionJob']['Transcript']['TranscriptFileUri'])\n",
    " data = json.loads(response.read())\n",
    " newtext[i] = data['results']['transcripts'][0]['transcript']\n",
    " transcribe.delete_transcription_job(TranscriptionJobName=name[i])"
   ]
  },
  {
   "cell_type": "markdown",
   "metadata": {},
   "source": [
    "nextext list contains all converted version of text after running the model."
   ]
  },
  {
   "cell_type": "code",
   "execution_count": 72,
   "metadata": {},
   "outputs": [
    {
     "data": {
      "text/plain": [
       "{0: \"overview of the Q. S s major. The Quantitative Sciences Q. S s major is the integration of liberal arts and data science with the Q. S s. Major students learn data science techniques in quantitative theory while they study the natural sciences, social sciences or humanities. You will take quantitative classes such as statistics, game theory and experimental methods and classes in an associated discipline based on your area of interest. Such a political science, psychology, neuroscience and behavioral biology, history and more. Finally, a major as die versus your interests. If you weren't sure what is a plan you want to pursue, you can start with the\",\n",
       " 1: \"Emory University, located near downtown Atlanta, is divided into nine schools and colleges, four of which serve undergraduate and graduate students. Emery's graduate programs include the highly ranked Goizueta Business School, School of Law and School of Medicine. 1st and 2nd year students are required to live on campus, but a majority of students remain on campus all four years. The Student Programming Council organizes events and performances throughout the year, including from well known entertainers and musicians. A popular student organization is volunteer Emery, which oversees community service activities. The Ameri Eagles have nearly 20 N C double A division three varsity teams and are well known for their successful swimming and diving team. Regardless of whether they participate in varsity athletics, all students are required to take two courses in physical education, and Marie also has a thriving Greek community.\",\n",
       " 2: \"Gatsby believed in the green light, the or gastric future that year by year recedes before us. It eluded us then, but that's no matter. Tomorrow we will run faster, stretch out our arms farther and one fine morning. So we beat on boats against the current, borne back ceaselessly into the past.\",\n",
       " 3: 'Amazon Transcribe uses advanced machine learning technologies to recognize speech in your audio or video and transcribe that speech into text. You can use Amazon transcribe to convert audio to text and to create applications that incorporate the content of audio files. For example, you can transcribe the audio track from a video recording to create closed captioning for the video.',\n",
       " 4: \"the Biden administration and top Democrats in Congress began detailing plans for significant changes to have the United States and other countries tax multinational corporations as they look for ways to raise revenues and finance President Biden's $2 trillion infrastructure proposal. On Monday, Treasury Secretary Janet L. Yellen threw her support behind an international effort to create a global minimum tax that would apply to multinational corporations regardless of where they locate their headquarters. Such a global tax, she said, could help prevent a race to the bottom in which countries cut their tax rates in order to entice companies to move headquarters and profits across borders.\",\n",
       " 5: \"overview of the Q. S s major. The Quantitative Sciences Q. S s major is the integration of liberal arts and data science with the Q. S s. Major students learn data science techniques in quantitative theory while they study the natural sciences, social sciences or humanities. You will take quantitative classes such as statistics, game theory and experimental methods and classes in an associated discipline based on your area of interest. Such a political science, psychology, neuroscience and behavioral biology, history and more. Finally, a major as die versus your interests. If you aren't sure what discipline you want to pursue, you can start with the\",\n",
       " 6: 'Emory University, located near downtown Atlanta, is divided into nine schools and colleges, four of which serve undergraduate and graduate students. Memories. Graduate programs include the highly ranked Goizueta Business School, School of Law and School of Medicine. 1st and 2nd year students are required to live on campus, but a majority of students remain on campus all four years. The Student Programming Council organizes events and performances throughout the year, including from well known entertainers and musicians. A popular student organization is volunteer Emery, which oversees community service activities. The Ameri Eagles have nearly 20 N C double A division three varsity teams and are well known for their successful swimming and diving team. Regardless of whether they participate in varsity athletics, all students are required to take two courses in physical education, and Marie also has a thriving Greek community.',\n",
       " 7: \"Gatsby believed in the green light. The orgiastic future that year by year recedes before us. It eluded us then, but that's no matter. Tomorrow we will run faster, stretch out our arms farther and one fine morning. So we beat on boats against the current, borne back ceaselessly into the past.\",\n",
       " 8: 'Amazon Transcribe uses advanced machine learning technologies to recognize speech in your audio or video and transcribe that speech into text. You can use Amazon transcribe to convert audio to text and to create applications that incorporate the content of audio files. For example, you can transcribe the audio track from a video recording to create closed captioning for the video.',\n",
       " 9: \"the Biden administration and top Democrats in Congress began detailing plans for significant changes to how the United States and other countries tax multinational corporations as they look for ways to raise revenues in finance President Biden's $2 trillion infrastructure proposal. On Monday, Treasury Secretary Janet L. Yellen threw her support behind an international effort to create a global minimum tax that would apply to multinational corporations regardless of where they locate their headquarters. Such a global tax, she said, could help prevent the race to the bottom, in which countries cut their tax rates in order to entice companies to move headquarters and profits across borders.\",\n",
       " 10: \"overview of the Q. S s major. The Quantitative Sciences Q. S s major is the integration of liberal arts and data science with the Q. S s. Major students learn data science techniques in quantitative theory while they study the natural sciences, social sciences or humanities. You will take quantitative classes such as statistics, game theory and experimental methods and classes in an associated discipline based on your area of interest. Such a political science, psychology, neuroscience and behavioral biology, history and more. Finally, a major as die versus your interests. If you aren't sure what discipline you want to pursue, you can start with the\",\n",
       " 11: \"Emory University, located near downtown Atlanta, is divided into nine schools and colleges, four of which serve undergraduate and graduate students. Emery's graduate programs include the highly ranked Goizueta Business School, School of Law and School of Medicine. 1st and 2nd year students are required to live on campus, but a majority of students remain on campus all four years. The Student Programming Council organizes events and performances throughout the year, including from well known entertainers and musicians. A popular student organization is volunteer Emery, which oversees community service activities. The Emory Eagles have nearly 20 N. C double A division three varsity teams and are well known for their successful swimming and diving team. Regardless of whether they participate in varsity athletics, all students are required to take two courses in physical education. Emery also has a thriving Greek community.\",\n",
       " 12: \"Gatsby believed in the green light. The orgiastic future that year by year recedes before us. It eluded us then, but that's no matter. Tomorrow we will run faster, stretch out our arms farther and one fine morning. So we beat on boats against the current, borne back ceaselessly into the past.\",\n",
       " 13: 'Amazon Transcribe uses advanced machine learning technologies to recognize speech in your audio or video and transcribe that speech into text. You can use Amazon transcribe to convert audio to text and to create applications that incorporate the content of audio files. For example, you can transcribe the audio track from a video recording to create closed captioning for the video.',\n",
       " 14: \"the Biden administration and top Democrats in Congress began detailing plans for significant changes to how the United States and other countries tax multinational corporations as they look for ways to raise revenues in finance President Biden's $2 trillion infrastructure proposal. On Monday, Treasury Secretary Janet L. Yellen threw her support behind an international effort to create a global minimum tax that would apply to multinational corporations regardless of where they locate their headquarters. Such a global tax, she said, could help prevent a race to the bottom in which countries cut their tax rates in order to entice companies to move headquarters and profits across borders.\",\n",
       " 15: \"overview of the Q. S s major. The Quantitative Sciences Q. S s major is the integration of liberal arts and data science with the Q. S s. Major students learn data science techniques and quantitative theory while they study the natural sciences, social sciences or humanities. You will take quantitative classes such as statistics, game theory and experimental methods and classes in an associated discipline based on your area of interest. Such a political science, psychology, neuroscience and behavioral biology, history and more. Finally, a major is die versus your interests. If you aren't sure what discipline you want to pursue, you can start with the\",\n",
       " 16: 'Emory University, located near downtown Atlanta, is divided into nine schools and colleges, four of which serve undergraduate and graduate students. Memories. Graduate programs include the highly ranked Goizueta Business School, School of Law and School of Medicine. 1st and 2nd year students are required to live on campus, but a majority of students remain on campus all four years. The Student Programming Council organizes events and performances throughout the year, including from well known entertainers and musicians. A popular student organization is volunteer Emery, which oversees community service activities. The Emory Eagles have nearly 20 N c double A division three varsity teams that are well known for their successful swimming and diving team. Regardless of whether they participate in varsity athletics, all students are required to take two courses in physical education. Emery also has a thriving Greek community.',\n",
       " 17: \"Gatsby believed in the green light. The orgiastic future that year by year recedes before us. It eluded us then, but that's no matter. Tomorrow we will run faster, stretch out our arms farther and one fine morning. So we beat on boats against the current, borne back ceaselessly into the past.\",\n",
       " 18: 'Amazon Transcribe uses advanced machine learning technologies to recognize speech in your audio or video and transcribe that speech into text. You can use Amazon transcribe to convert audio to text and to create applications that incorporate the content of audio files. For example, you can transcribe the audio track from a video recording to create closed captioning for the video.',\n",
       " 19: \"the Biden administration and top Democrats in Congress began detailing plans for significant changes to how the United States and other countries tax multinational corporations as they look for ways to raise revenues in finance President Biden's $2 trillion infrastructure proposal. On Monday, Treasury Secretary Janet L. Yellen threw her support behind an international effort to create a global minimum tax that would apply to multinational corporations regardless of where they locate their headquarters. Such a global tax, she said, could help prevent the race to the bottom, in which countries cut their tax rates in order to entice companies to move headquarters and profits across borders.\",\n",
       " 20: \"overview of the Q. S s major. The Quantitative Sciences Q. S s major is the integration of liberal arts and data science with the Q. S s. Major students learn data science techniques and quantitative theory while they study the natural sciences, social sciences or humanities. You will take quantitative classes such as statistics, game theory and experimental methods and classes in an associated discipline based on your area of interest. Such a political science, psychology, neuroscience and behavioral biology, history and more. Finally, a major is diverse is your interests. If you aren't sure what discipline you want to pursue, you can start with the\",\n",
       " 21: 'Emory University, located near downtown Atlanta, is divided into nine schools and colleges, four of which serve undergraduate and graduate students. Memories. Graduate programs include the highly ranked Goizueta Business School, School of Law and School of Medicine. 1st and 2nd year students are required to live on campus, but a majority of students remain on campus all four years. The Student Programming Council organizes events and performances throughout the year, including from well known entertainers and musicians. A popular student organization is volunteer Emery, which oversees community service activities. The Emory Eagles have nearly 20 N C double A division three varsity teams and are well known for their successful swimming and diving team. Regardless of whether they participate in varsity athletics, all students are required to take two courses in physical education. Emery also has a thriving Greek community.',\n",
       " 22: \"Gatsby believed in the green light. The orgiastic future that year by year recedes before us. It eluded us then, but that's no matter. Tomorrow we will run faster, stretch out our arms farther and one fine morning. So we beat on boats against the current, borne back ceaselessly into the past.\",\n",
       " 23: 'Amazon Transcribe uses advanced machine learning technologies to recognize speech in your audio or video and transcribe that speech into text. You can use Amazon transcribe to convert audio to text and to create applications that incorporate the content of audio files. For example, you can transcribe the audio track from a video recording to create closed captioning for the video.',\n",
       " 24: \"the Biden administration and top Democrats in Congress began detailing plans for significant changes to how the United States and other countries tax multinational corporations as they look for ways to raise revenues in finance President Biden's $2 trillion infrastructure proposal. On Monday, Treasury Secretary Janet L. Yellen threw her support behind an international effort to create a global minimum tax that would apply to multinational corporations regardless of where they locate their headquarters. Such a global tax, she said, could help prevent the race to the bottom, in which countries cut their tax rates in order to entice companies to move headquarters and profits across borders.\"}"
      ]
     },
     "execution_count": 72,
     "metadata": {},
     "output_type": "execute_result"
    }
   ],
   "source": [
    "newtext"
   ]
  }
 ],
 "metadata": {
  "kernelspec": {
   "display_name": "Python 3",
   "language": "python",
   "name": "python3"
  },
  "language_info": {
   "codemirror_mode": {
    "name": "ipython",
    "version": 3
   },
   "file_extension": ".py",
   "mimetype": "text/x-python",
   "name": "python",
   "nbconvert_exporter": "python",
   "pygments_lexer": "ipython3",
   "version": "3.8.5"
  }
 },
 "nbformat": 4,
 "nbformat_minor": 5
}
